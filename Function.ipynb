{
  "nbformat": 4,
  "nbformat_minor": 0,
  "metadata": {
    "colab": {
      "provenance": []
    },
    "kernelspec": {
      "name": "python3",
      "display_name": "Python 3"
    },
    "language_info": {
      "name": "python"
    }
  },
  "cells": [
    {
      "cell_type": "markdown",
      "source": [
        "Function"
      ],
      "metadata": {
        "id": "7ymYaM4EGTRw"
      }
    },
    {
      "cell_type": "code",
      "source": [
        "# define function\n",
        "def fun():\n",
        "  print(\"My fun function\")\n",
        "# call function\n",
        "fun()"
      ],
      "metadata": {
        "colab": {
          "base_uri": "https://localhost:8080/"
        },
        "id": "95yR3hN9Wibm",
        "outputId": "4772635e-fcea-4d53-dc26-7d63920978ea"
      },
      "execution_count": null,
      "outputs": [
        {
          "output_type": "stream",
          "name": "stdout",
          "text": [
            "My fun function\n"
          ]
        }
      ]
    },
    {
      "cell_type": "markdown",
      "source": [
        "Parameters & Arguments"
      ],
      "metadata": {
        "id": "hm8-pCceGfER"
      }
    },
    {
      "cell_type": "code",
      "source": [
        "# Here a,b are the parameters\n",
        "def sum(a,b):\n",
        " print(a+b)\n",
        "\n",
        "# Here the values 1,2 are arguments\n",
        "sum(1,2)"
      ],
      "metadata": {
        "colab": {
          "base_uri": "https://localhost:8080/"
        },
        "id": "tYGzmzjgW8gb",
        "outputId": "7eead478-06e6-428b-fbc6-9abaf4a69779"
      },
      "execution_count": null,
      "outputs": [
        {
          "output_type": "stream",
          "name": "stdout",
          "text": [
            "3\n"
          ]
        }
      ]
    },
    {
      "cell_type": "markdown",
      "source": [
        "Arguments - Positional"
      ],
      "metadata": {
        "id": "e7uwD_A7Gsk0"
      }
    },
    {
      "cell_type": "code",
      "source": [
        "def greet(name, greeting):\n",
        " print(f\"{greeting}, {name}!\")\n",
        "greet(\"Alice\", \"Hello\") # \"Hello, Alice!\""
      ],
      "metadata": {
        "colab": {
          "base_uri": "https://localhost:8080/"
        },
        "id": "z_NJXhbbXGQ5",
        "outputId": "2d340a34-9500-4d06-ac7b-c58d171bf2df"
      },
      "execution_count": null,
      "outputs": [
        {
          "output_type": "stream",
          "name": "stdout",
          "text": [
            "Hello, Alice!\n"
          ]
        }
      ]
    },
    {
      "cell_type": "markdown",
      "source": [
        "Arguments - Keyword"
      ],
      "metadata": {
        "id": "QvOKFCqSG807"
      }
    },
    {
      "cell_type": "code",
      "source": [
        "def greet(name, greeting):\n",
        " print(f\"{greeting}, {name}!\")\n",
        "greet(greeting=\"Hi\", name=\"Bob\") # \"Hi, Bob!\""
      ],
      "metadata": {
        "colab": {
          "base_uri": "https://localhost:8080/"
        },
        "id": "KK_j20lfXYoR",
        "outputId": "85617918-29f7-4194-f01f-ca44be340499"
      },
      "execution_count": null,
      "outputs": [
        {
          "output_type": "stream",
          "name": "stdout",
          "text": [
            "Hi, Bob!\n"
          ]
        }
      ]
    },
    {
      "cell_type": "markdown",
      "source": [
        "Arguments - Default"
      ],
      "metadata": {
        "id": "6zjLVFZbHCDH"
      }
    },
    {
      "cell_type": "code",
      "source": [
        "def greet(name, greeting=\"Hello\"):\n",
        " print(f\"{greeting}, {name}!\")\n",
        "greet(\"Eve\") # \"Hello, Eve!\""
      ],
      "metadata": {
        "colab": {
          "base_uri": "https://localhost:8080/"
        },
        "id": "SPUPEFQ0XtSU",
        "outputId": "f285f9c0-8519-4a5b-932e-6f1122c7cba1"
      },
      "execution_count": null,
      "outputs": [
        {
          "output_type": "stream",
          "name": "stdout",
          "text": [
            "Hello, Eve!\n"
          ]
        }
      ]
    },
    {
      "cell_type": "markdown",
      "source": [
        "Arguments - Arbitrary - *args"
      ],
      "metadata": {
        "id": "A_yCoRtuHO05"
      }
    },
    {
      "cell_type": "code",
      "source": [
        "def print_args(*args):\n",
        " for arg in args:\n",
        "  print(arg)\n",
        "print_args(1, \"apple\", True) # 1\\n\"apple\"\\nTrue"
      ],
      "metadata": {
        "colab": {
          "base_uri": "https://localhost:8080/"
        },
        "id": "XkbE8fGeXxGB",
        "outputId": "06fe44dd-e7f7-4af3-b211-6d5d33d184af"
      },
      "execution_count": null,
      "outputs": [
        {
          "output_type": "stream",
          "name": "stdout",
          "text": [
            "1\n",
            "apple\n",
            "True\n"
          ]
        }
      ]
    },
    {
      "cell_type": "markdown",
      "source": [
        "Arguments - Arbitrary -*kwargs"
      ],
      "metadata": {
        "id": "qF5LD39_Hrqd"
      }
    },
    {
      "cell_type": "code",
      "source": [
        "def print_kwargs(**kwargs):\n",
        " for key, value in kwargs.items():\n",
        "  print(f\"{key}: {value}\")\n",
        "print_kwargs(name=\"Alice\", age=30) # \"name: Alice\"\\n\"age: 30\""
      ],
      "metadata": {
        "id": "6etQadeuT-Bv",
        "colab": {
          "base_uri": "https://localhost:8080/"
        },
        "outputId": "0ea20be9-f0b1-44d8-c8cb-b45fe3df1f65"
      },
      "execution_count": null,
      "outputs": [
        {
          "output_type": "stream",
          "name": "stdout",
          "text": [
            "name: Alice\n",
            "age: 30\n"
          ]
        }
      ]
    },
    {
      "cell_type": "markdown",
      "source": [
        "Arguments - Passing Lists/Dictionaries/etc"
      ],
      "metadata": {
        "id": "MtWRD5t3HwlF"
      }
    },
    {
      "cell_type": "code",
      "source": [
        "def print_list(numbers):\n",
        " for num in numbers:\n",
        "  print(num)\n",
        "print_list([1, 2, 3, 4]) # 1\\n2\\n3\\n4\n",
        "def print_dict(my_dict):\n",
        " for key, value in my_dict.items():\n",
        "  print(f\"{key}: {value}\")\n",
        "print_dict({\"name\": \"Bob\", \"age\": 25}) # Output: \"name: Bob\"\\n\"age: 25\""
      ],
      "metadata": {
        "colab": {
          "base_uri": "https://localhost:8080/"
        },
        "id": "XjYh-pVtYRnu",
        "outputId": "032e5543-9183-420e-c023-781325cf57e2"
      },
      "execution_count": null,
      "outputs": [
        {
          "output_type": "stream",
          "name": "stdout",
          "text": [
            "1\n",
            "2\n",
            "3\n",
            "4\n",
            "name: Bob\n",
            "age: 25\n"
          ]
        }
      ]
    },
    {
      "cell_type": "markdown",
      "source": [
        "Different Argument Combinations"
      ],
      "metadata": {
        "id": "w_8TbcDzH4aT"
      }
    },
    {
      "cell_type": "code",
      "source": [
        "def f(a, *b, c=6, **d): # compare it with def f(a, b=6, *c, **d)\n",
        " print(f\"a: {a}\")\n",
        " print(f\"b: {b}\")\n",
        " print(f\"c: {c}\")\n",
        " print(f\"d: {d}\")\n",
        "f(1, 2, 3, x=4, y=5) # Default used\n",
        "f(1, 2, 3, c=7, x=4, y=5) # Override default\n"
      ],
      "metadata": {
        "colab": {
          "base_uri": "https://localhost:8080/"
        },
        "id": "XkGs-4VfYbSP",
        "outputId": "ccc64403-db98-40e2-b805-cc317d5d6656"
      },
      "execution_count": null,
      "outputs": [
        {
          "output_type": "stream",
          "name": "stdout",
          "text": [
            "a: 1\n",
            "b: (2, 3)\n",
            "c: 6\n",
            "d: {'x': 4, 'y': 5}\n",
            "a: 1\n",
            "b: (2, 3)\n",
            "c: 7\n",
            "d: {'x': 4, 'y': 5}\n"
          ]
        }
      ]
    },
    {
      "cell_type": "markdown",
      "source": [
        "Return Statements - Example"
      ],
      "metadata": {
        "id": "hzaMj86eH_5_"
      }
    },
    {
      "cell_type": "code",
      "source": [
        "def add_numbers(a, b):\n",
        " \"\"\"This function adds two numbers and\n",
        "returns the result.\"\"\"\n",
        " result = a + b\n",
        " return result\n",
        "# Call the function with a return value\n",
        "sum_result = add_numbers(5, 3)\n",
        "print(f\"The sum is: {sum_result}\")\n",
        "def greet(name):\n",
        " \"\"\"This function greets the person passed in as a\n",
        "parameter.\"\"\"\n",
        " print(f\"Hello, {name}!\")\n",
        "# Call the function without a return value\n",
        "greet(\"Alice\")\n"
      ],
      "metadata": {
        "colab": {
          "base_uri": "https://localhost:8080/"
        },
        "id": "1cDLaVIKYh3D",
        "outputId": "796cff03-d33f-4e75-83f0-4d4c4b6c45ec"
      },
      "execution_count": null,
      "outputs": [
        {
          "output_type": "stream",
          "name": "stdout",
          "text": [
            "The sum is: 8\n",
            "Hello, Alice!\n"
          ]
        }
      ]
    },
    {
      "cell_type": "markdown",
      "source": [
        "It is executed at runtime"
      ],
      "metadata": {
        "id": "eFWBq0qmIOjt"
      }
    },
    {
      "cell_type": "code",
      "source": [
        "\n",
        "def divide_by_zero(a):\n",
        "    try:\n",
        "        result = a * 2 / (a - a)\n",
        "    except ZeroDivisionError:\n",
        "        print(\"Error: Division by zero\")\n",
        "        return None\n",
        "    return result\n",
        "\n",
        "print(\"After function creation\")\n",
        "result = divide_by_zero(5)  # comment this and see the differences\n",
        "print(\"After function is called/executed\")\n",
        "\n"
      ],
      "metadata": {
        "colab": {
          "base_uri": "https://localhost:8080/"
        },
        "id": "_TKg3qMZvrI0",
        "outputId": "bbd8c3cd-d336-45b8-fad2-db8415981dec"
      },
      "execution_count": null,
      "outputs": [
        {
          "output_type": "stream",
          "name": "stdout",
          "text": [
            "After function creation\n",
            "Error: Division by zero\n",
            "After function is called/executed\n"
          ]
        }
      ]
    },
    {
      "cell_type": "code",
      "source": [
        "if 'a' == 'a':\n",
        " def greet():\n",
        "  return \"Hello, World!\"\n",
        "else:\n",
        " def greet():\n",
        "  return \"Hi there!\"\n",
        " def say_hello():\n",
        "  print(\"Hello, World!\")\n",
        "  greeting = say_hello # Assigning the function to a different name\n",
        "  greeting() # Calls the function\n",
        "def say_hello():\n",
        " print(\"Hello, Python!\")\n",
        "say_hello() # Calls the updated function\n"
      ],
      "metadata": {
        "colab": {
          "base_uri": "https://localhost:8080/"
        },
        "id": "sdJ_V-6MYr3o",
        "outputId": "40bb804c-30a2-4111-d895-668ed225be07"
      },
      "execution_count": null,
      "outputs": [
        {
          "output_type": "stream",
          "name": "stdout",
          "text": [
            "Hello, Python!\n"
          ]
        }
      ]
    },
    {
      "cell_type": "markdown",
      "source": [
        "It is first class object"
      ],
      "metadata": {
        "id": "P3tSqeK7IdXq"
      }
    },
    {
      "cell_type": "code",
      "source": [
        "def greet(name):\n",
        " return f\"Hello, {name}!\"\n",
        "# Assign the function to a variable\n",
        "my_function = greet\n",
        "# Call the function using the variable\n",
        "result = my_function(\"Alice\")\n",
        "print(result) # Output: Hello, Alice!"
      ],
      "metadata": {
        "colab": {
          "base_uri": "https://localhost:8080/"
        },
        "id": "YrVpb7oBbxba",
        "outputId": "9bb9a62c-d408-419c-9836-5ec5b457dd17"
      },
      "execution_count": null,
      "outputs": [
        {
          "output_type": "stream",
          "name": "stdout",
          "text": [
            "Hello, Alice!\n"
          ]
        }
      ]
    },
    {
      "cell_type": "markdown",
      "source": [
        "Scope = Examples"
      ],
      "metadata": {
        "id": "b_Nmwd9UImHR"
      }
    },
    {
      "cell_type": "code",
      "source": [
        "def my_function():\n",
        " x = 10 # x is in the local scope\n",
        " print(x)\n",
        "def outer_function():\n",
        " y = 20 # y is in the enclosing scope\n",
        " def inner_function():\n",
        "  print(y) # inner_function can access y from the enclosing scope\n",
        "z = 30 # z is in the global scope\n",
        "def another_function():\n",
        " print(z) # another_function can access z from the global scope\n",
        "print(len(\"Hello, World!\")) # len is a built-in function\n",
        "# Global keyword\n",
        "# Global keyword is used if we want to modify a global variable from within a function.\n",
        "# It indicates that we want to work with the global variable, rather than creating a new local variable with the same name.\n",
        "global_var = 10  # Global variable"
      ],
      "metadata": {
        "colab": {
          "base_uri": "https://localhost:8080/"
        },
        "id": "UPV7dwASh0e8",
        "outputId": "808fb4e4-195d-43f1-a41a-193d78e1be2e"
      },
      "execution_count": null,
      "outputs": [
        {
          "output_type": "stream",
          "name": "stdout",
          "text": [
            "13\n"
          ]
        }
      ]
    },
    {
      "cell_type": "markdown",
      "source": [
        "Scope - Global Keyword"
      ],
      "metadata": {
        "id": "Hq0p4NBnIuTw"
      }
    },
    {
      "cell_type": "code",
      "source": [
        "global_var = 10 # Global variable\n",
        "def modify_global():\n",
        " global global_var # Use the global keyword to MODIFY the global variable\n",
        " global_var = 20\n",
        "modify_global()\n",
        "print(global_var) # This will print the modified global variable, which is 20\n"
      ],
      "metadata": {
        "colab": {
          "base_uri": "https://localhost:8080/"
        },
        "id": "McDdIgHsi_UL",
        "outputId": "2fcd1f0f-efda-4e35-f660-2e0087a2da46"
      },
      "execution_count": null,
      "outputs": [
        {
          "output_type": "stream",
          "name": "stdout",
          "text": [
            "20\n"
          ]
        }
      ]
    },
    {
      "cell_type": "markdown",
      "source": [
        "Pass by Object Reference"
      ],
      "metadata": {
        "id": "f9DbDP4bI0WM"
      }
    },
    {
      "cell_type": "code",
      "source": [
        "def modify_list(my_list):\n",
        " my_list.append(4) # Modifying the list inside the function\n",
        "my_list = [1, 2, 3]\n",
        "modify_list(my_list)\n",
        "print(my_list) # Output: [1, 2, 3, 4]\n",
        "def reassign_list(my_list):\n",
        " my_list = [4, 5, 6] # Reassigning the list to a new object\n",
        "my_list = [1, 2, 3]\n",
        "reassign_list(my_list)\n",
        "print(my_list) # Output: [1, 2, 3]\n"
      ],
      "metadata": {
        "colab": {
          "base_uri": "https://localhost:8080/"
        },
        "id": "OpXN_-KHjHJ-",
        "outputId": "5a88fa44-a931-4310-d0f2-07ea73eb3345"
      },
      "execution_count": null,
      "outputs": [
        {
          "output_type": "stream",
          "name": "stdout",
          "text": [
            "[1, 2, 3, 4]\n",
            "[1, 2, 3]\n"
          ]
        }
      ]
    },
    {
      "cell_type": "markdown",
      "source": [
        "Function Overloading"
      ],
      "metadata": {
        "id": "4HLM0rWmI8O1"
      }
    },
    {
      "cell_type": "code",
      "source": [
        "def product(a, b):\n",
        " print(a * b)\n",
        "def product(a, b, c):\n",
        " print(a * b * c)\n",
        "# product(4, 5) # Uncommenting this shows an error\n",
        "\n",
        "product(4, 5, 5) # This line will call the last function\n",
        "# Try using *args to solve that problem\n"
      ],
      "metadata": {
        "colab": {
          "base_uri": "https://localhost:8080/"
        },
        "id": "dBCqNou3jmTo",
        "outputId": "dd78c8de-ba72-4605-e81f-6c04f3853715"
      },
      "execution_count": null,
      "outputs": [
        {
          "output_type": "stream",
          "name": "stdout",
          "text": [
            "100\n"
          ]
        }
      ]
    },
    {
      "cell_type": "markdown",
      "source": [
        "Function Recursion"
      ],
      "metadata": {
        "id": "OgovcGlzJCPn"
      }
    },
    {
      "cell_type": "code",
      "source": [
        "def factorial(n):\n",
        " if n == 0:\n",
        "  return 1\n",
        " else:\n",
        "  return n * factorial(n - 1)\n",
        "result = factorial(5)\n",
        "print(result) # Output: 120"
      ],
      "metadata": {
        "colab": {
          "base_uri": "https://localhost:8080/"
        },
        "id": "Z4M0c2OOjuHG",
        "outputId": "a7f97070-02e7-4876-900a-0aa51ea570a4"
      },
      "execution_count": null,
      "outputs": [
        {
          "output_type": "stream",
          "name": "stdout",
          "text": [
            "120\n"
          ]
        }
      ]
    },
    {
      "cell_type": "markdown",
      "source": [
        "Error Handling - Examples"
      ],
      "metadata": {
        "id": "WPgNRTaMJHHH"
      }
    },
    {
      "cell_type": "code",
      "source": [
        "def divide(x, y):\n",
        " try:\n",
        "  result = x / y\n",
        " except ZeroDivisionError:\n",
        "  print(\"Error: Division by zero\")\n",
        "  return None\n",
        " except TypeError:\n",
        "  print(\"Error: Invalid data types\")\n",
        "  return None\n",
        " except Exception as e:\n",
        "  print(f\"An unexpected error occurred: {e}\")\n",
        "  return None\n",
        " else:\n",
        "  return result\n",
        " finally:\n",
        "  print(\"Division operation complete\")\n",
        "  # Example usages\n",
        "print(divide(10, 2)) # Output: 5.0\n",
        "print(divide(10, 0)) # Output: Error: Division by zero\\nDivision operation complete\\nNone\n",
        "print(divide(\"10\", 0)) # Output: Error: Invalid data types\\nDivision operation complete\\nNone\n"
      ],
      "metadata": {
        "colab": {
          "base_uri": "https://localhost:8080/"
        },
        "id": "Iw0GW035kP8d",
        "outputId": "f1074e41-146b-4d71-a38d-1cc6ed8e4992"
      },
      "execution_count": null,
      "outputs": [
        {
          "output_type": "stream",
          "name": "stdout",
          "text": [
            "Division operation complete\n",
            "5.0\n",
            "Error: Division by zero\n",
            "Division operation complete\n",
            "None\n",
            "Error: Invalid data types\n",
            "Division operation complete\n",
            "None\n"
          ]
        }
      ]
    },
    {
      "cell_type": "markdown",
      "source": [
        "Docstrings - Examples"
      ],
      "metadata": {
        "id": "hdLoMQo-JN9n"
      }
    },
    {
      "cell_type": "code",
      "source": [
        "def add(a, b):\n",
        " \"\"\"\n",
        " This function adds two numbers together.\n",
        "\n",
        " Args:\n",
        " a (int): The first number to be added.\n",
        " b (int): The second number to be added.\n",
        "\n",
        " Returns:\n",
        " int: The sum of the two input numbers.\n",
        "\n",
        " Example:\n",
        " >>> add(3, 4)\n",
        " 7\n",
        " \"\"\"\n",
        " return a + b\n",
        "help(add) # Displays the docstring\n"
      ],
      "metadata": {
        "colab": {
          "base_uri": "https://localhost:8080/"
        },
        "id": "b-x5EJyklPNo",
        "outputId": "164fc464-1695-414e-bc38-bf09e06b9382"
      },
      "execution_count": null,
      "outputs": [
        {
          "output_type": "stream",
          "name": "stdout",
          "text": [
            "Help on function add in module __main__:\n",
            "\n",
            "add(a, b)\n",
            "    This function adds two numbers together.\n",
            "    \n",
            "    Args:\n",
            "    a (int): The first number to be added.\n",
            "    b (int): The second number to be added.\n",
            "    \n",
            "    Returns:\n",
            "    int: The sum of the two input numbers.\n",
            "    \n",
            "    Example:\n",
            "    >>> add(3, 4)\n",
            "    7\n",
            "\n"
          ]
        }
      ]
    }
  ]
}