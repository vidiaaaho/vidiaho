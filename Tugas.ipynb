{
  "nbformat": 4,
  "nbformat_minor": 0,
  "metadata": {
    "colab": {
      "provenance": []
    },
    "kernelspec": {
      "name": "python3",
      "display_name": "Python 3"
    },
    "language_info": {
      "name": "python"
    }
  },
  "cells": [
    {
      "cell_type": "markdown",
      "source": [
        "Mengkonversi Suhu"
      ],
      "metadata": {
        "id": "ht1Jtc02OVMx"
      }
    },
    {
      "cell_type": "code",
      "execution_count": 3,
      "metadata": {
        "id": "hbagyfq0NJEj"
      },
      "outputs": [],
      "source": [
        "def konversi_suhu(suhu, skala_awal, skala_tujuan):\n",
        "    if skala_awal == \"Celsius\" and skala_tujuan == \"Fahrenheit\":\n",
        "        return (suhu * 9/5) + 32\n",
        "    elif skala_awal == \"Fahrenheit\" and skala_tujuan == \"Celsius\":\n",
        "        return (suhu - 32) * 5/9\n",
        "    else:\n",
        "        print(\"Konversi suhu tidak didukung\")\n",
        "        return None"
      ]
    },
    {
      "cell_type": "markdown",
      "source": [
        "Membuat Kalkulator"
      ],
      "metadata": {
        "id": "VA8yNVFHOa4p"
      }
    },
    {
      "cell_type": "code",
      "source": [
        "def kalkulator(operator, *angka):\n",
        "    if operator == \"+\":\n",
        "        hasil = sum(angka)\n",
        "    elif operator == \"-\":\n",
        "        hasil = angka[0] - sum(angka[1:])\n",
        "    elif operator == \"*\":\n",
        "        hasil = 1\n",
        "        for num in angka:\n",
        "            hasil *= num\n",
        "    elif operator == \"/\":\n",
        "        hasil = angka[0]\n",
        "        for num in angka[1:]:\n",
        "            if num == 0:\n",
        "                return \"Pembagian dengan nol tidak diizinkan\"\n",
        "            hasil /= num\n",
        "    else:\n",
        "        return \"Operator tidak valid\"\n",
        "\n",
        "    return hasil\n",
        "\n",
        "# Contoh penggunaan\n",
        "hasil_penjumlahan = kalkulator(\"+\", 5, 3, 2)\n",
        "print(\"Hasil Penjumlahan:\", hasil_penjumlahan)\n",
        "\n",
        "hasil_pengurangan = kalkulator(\"-\", 10, 2, 3)\n",
        "print(\"Hasil Pengurangan:\", hasil_pengurangan)\n",
        "\n",
        "hasil_perkalian = kalkulator(\"*\", 4, 5, 2)\n",
        "print(\"Hasil Perkalian:\", hasil_perkalian)\n",
        "\n",
        "hasil_pembagian = kalkulator(\"/\", 20, 4, 2)\n",
        "print(\"Hasil Pembagian:\", hasil_pembagian)"
      ],
      "metadata": {
        "id": "-PhHfOqRO4z6"
      },
      "execution_count": null,
      "outputs": []
    }
  ]
}